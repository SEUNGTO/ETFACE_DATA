{
 "cells": [
  {
   "cell_type": "code",
   "execution_count": 4,
   "metadata": {},
   "outputs": [],
   "source": [
    "import pandas as pd\n",
    "from tqdm import tqdm"
   ]
  },
  {
   "cell_type": "code",
   "execution_count": 3,
   "metadata": {},
   "outputs": [],
   "source": [
    "# 대상 기업 정보 불러오기\n",
    "fs_all = pd.read_excel('data/fs-account.xlsx', dtype = str)"
   ]
  },
  {
   "cell_type": "code",
   "execution_count": 7,
   "metadata": {},
   "outputs": [],
   "source": [
    "# 대상 기업 정보 불러오기\n",
    "corp_list = pd.read_excel('data/etf_fs_target_company.xlsx', dtype = str)"
   ]
  },
  {
   "cell_type": "code",
   "execution_count": 89,
   "metadata": {},
   "outputs": [
    {
     "name": "stderr",
     "output_type": "stream",
     "text": [
      "2301it [01:14, 30.74it/s]\n"
     ]
    }
   ],
   "source": [
    "# 결과 데이터\n",
    "data = pd.DataFrame()\n",
    "\n",
    "for idx, v in tqdm(corp_list.iterrows()) :\n",
    "    corp_code, stock_name, stock_code = v\n",
    "\n",
    "    tmp = fs_all.loc[fs_all['corp_code'] == corp_code, :]\n",
    "    bs = filter_bs_account(tmp)\n",
    "\n",
    "    data = pd.concat([data, bs])\n"
   ]
  },
  {
   "cell_type": "code",
   "execution_count": 101,
   "metadata": {},
   "outputs": [
    {
     "data": {
      "text/html": [
       "<div>\n",
       "<style scoped>\n",
       "    .dataframe tbody tr th:only-of-type {\n",
       "        vertical-align: middle;\n",
       "    }\n",
       "\n",
       "    .dataframe tbody tr th {\n",
       "        vertical-align: top;\n",
       "    }\n",
       "\n",
       "    .dataframe thead th {\n",
       "        text-align: right;\n",
       "    }\n",
       "</style>\n",
       "<table border=\"1\" class=\"dataframe\">\n",
       "  <thead>\n",
       "    <tr style=\"text-align: right;\">\n",
       "      <th></th>\n",
       "      <th>account_id</th>\n",
       "      <th>account_nm</th>\n",
       "    </tr>\n",
       "  </thead>\n",
       "  <tbody>\n",
       "    <tr>\n",
       "      <th>29258</th>\n",
       "      <td>ifrs-full_EquityAndLiabilities</td>\n",
       "      <td>자본과 부채 총계</td>\n",
       "    </tr>\n",
       "    <tr>\n",
       "      <th>37543</th>\n",
       "      <td>ifrs-full_Liabilities</td>\n",
       "      <td>부채 총계</td>\n",
       "    </tr>\n",
       "    <tr>\n",
       "      <th>272335</th>\n",
       "      <td>ifrs-full_EquityAndLiabilities</td>\n",
       "      <td>자본 및 부채 총계</td>\n",
       "    </tr>\n",
       "  </tbody>\n",
       "</table>\n",
       "</div>"
      ],
      "text/plain": [
       "                            account_id  account_nm\n",
       "29258   ifrs-full_EquityAndLiabilities   자본과 부채 총계\n",
       "37543            ifrs-full_Liabilities       부채 총계\n",
       "272335  ifrs-full_EquityAndLiabilities  자본 및 부채 총계"
      ]
     },
     "execution_count": 101,
     "metadata": {},
     "output_type": "execute_result"
    }
   ],
   "source": [
    "fs_all.loc[fs_all['account_nm'].str.contains('부채 총계'), ['account_id', 'account_nm']].drop_duplicates()"
   ]
  },
  {
   "cell_type": "code",
   "execution_count": 103,
   "metadata": {},
   "outputs": [
    {
     "data": {
      "text/html": [
       "<div>\n",
       "<style scoped>\n",
       "    .dataframe tbody tr th:only-of-type {\n",
       "        vertical-align: middle;\n",
       "    }\n",
       "\n",
       "    .dataframe tbody tr th {\n",
       "        vertical-align: top;\n",
       "    }\n",
       "\n",
       "    .dataframe thead th {\n",
       "        text-align: right;\n",
       "    }\n",
       "</style>\n",
       "<table border=\"1\" class=\"dataframe\">\n",
       "  <thead>\n",
       "    <tr style=\"text-align: right;\">\n",
       "      <th></th>\n",
       "      <th>corp_code</th>\n",
       "    </tr>\n",
       "  </thead>\n",
       "  <tbody>\n",
       "    <tr>\n",
       "      <th>31</th>\n",
       "      <td>01170962</td>\n",
       "    </tr>\n",
       "    <tr>\n",
       "      <th>168</th>\n",
       "      <td>01139266</td>\n",
       "    </tr>\n",
       "    <tr>\n",
       "      <th>306</th>\n",
       "      <td>00938688</td>\n",
       "    </tr>\n",
       "    <tr>\n",
       "      <th>522</th>\n",
       "      <td>01107665</td>\n",
       "    </tr>\n",
       "    <tr>\n",
       "      <th>642</th>\n",
       "      <td>00261735</td>\n",
       "    </tr>\n",
       "    <tr>\n",
       "      <th>...</th>\n",
       "      <td>...</td>\n",
       "    </tr>\n",
       "    <tr>\n",
       "      <th>461283</th>\n",
       "      <td>00633835</td>\n",
       "    </tr>\n",
       "    <tr>\n",
       "      <th>461451</th>\n",
       "      <td>00317104</td>\n",
       "    </tr>\n",
       "    <tr>\n",
       "      <th>461598</th>\n",
       "      <td>00651901</td>\n",
       "    </tr>\n",
       "    <tr>\n",
       "      <th>461723</th>\n",
       "      <td>00661847</td>\n",
       "    </tr>\n",
       "    <tr>\n",
       "      <th>461870</th>\n",
       "      <td>01428203</td>\n",
       "    </tr>\n",
       "  </tbody>\n",
       "</table>\n",
       "<p>2656 rows × 1 columns</p>\n",
       "</div>"
      ],
      "text/plain": [
       "       corp_code\n",
       "31      01170962\n",
       "168     01139266\n",
       "306     00938688\n",
       "522     01107665\n",
       "642     00261735\n",
       "...          ...\n",
       "461283  00633835\n",
       "461451  00317104\n",
       "461598  00651901\n",
       "461723  00661847\n",
       "461870  01428203\n",
       "\n",
       "[2656 rows x 1 columns]"
      ]
     },
     "execution_count": 103,
     "metadata": {},
     "output_type": "execute_result"
    }
   ],
   "source": [
    "liability = (fs_all['account_id'] == 'ifrs-full_Liabilities')\n",
    "fs_all.loc[liability, ['corp_code']].drop_duplicates()"
   ]
  },
  {
   "cell_type": "code",
   "execution_count": null,
   "metadata": {},
   "outputs": [
    {
     "data": {
      "text/html": [
       "<div>\n",
       "<style scoped>\n",
       "    .dataframe tbody tr th:only-of-type {\n",
       "        vertical-align: middle;\n",
       "    }\n",
       "\n",
       "    .dataframe tbody tr th {\n",
       "        vertical-align: top;\n",
       "    }\n",
       "\n",
       "    .dataframe thead th {\n",
       "        text-align: right;\n",
       "    }\n",
       "</style>\n",
       "<table border=\"1\" class=\"dataframe\">\n",
       "  <thead>\n",
       "    <tr style=\"text-align: right;\">\n",
       "      <th></th>\n",
       "      <th>corp_code</th>\n",
       "    </tr>\n",
       "  </thead>\n",
       "  <tbody>\n",
       "    <tr>\n",
       "      <th>16</th>\n",
       "      <td>01170962</td>\n",
       "    </tr>\n",
       "    <tr>\n",
       "      <th>152</th>\n",
       "      <td>01139266</td>\n",
       "    </tr>\n",
       "    <tr>\n",
       "      <th>314</th>\n",
       "      <td>00938688</td>\n",
       "    </tr>\n",
       "    <tr>\n",
       "      <th>509</th>\n",
       "      <td>01107665</td>\n",
       "    </tr>\n",
       "    <tr>\n",
       "      <th>632</th>\n",
       "      <td>00261735</td>\n",
       "    </tr>\n",
       "    <tr>\n",
       "      <th>...</th>\n",
       "      <td>...</td>\n",
       "    </tr>\n",
       "    <tr>\n",
       "      <th>461258</th>\n",
       "      <td>00633835</td>\n",
       "    </tr>\n",
       "    <tr>\n",
       "      <th>461436</th>\n",
       "      <td>00317104</td>\n",
       "    </tr>\n",
       "    <tr>\n",
       "      <th>461585</th>\n",
       "      <td>00651901</td>\n",
       "    </tr>\n",
       "    <tr>\n",
       "      <th>461707</th>\n",
       "      <td>00661847</td>\n",
       "    </tr>\n",
       "    <tr>\n",
       "      <th>461851</th>\n",
       "      <td>01428203</td>\n",
       "    </tr>\n",
       "  </tbody>\n",
       "</table>\n",
       "<p>2658 rows × 1 columns</p>\n",
       "</div>"
      ],
      "text/plain": [
       "       corp_code\n",
       "16      01170962\n",
       "152     01139266\n",
       "314     00938688\n",
       "509     01107665\n",
       "632     00261735\n",
       "...          ...\n",
       "461258  00633835\n",
       "461436  00317104\n",
       "461585  00651901\n",
       "461707  00661847\n",
       "461851  01428203\n",
       "\n",
       "[2658 rows x 1 columns]"
      ]
     },
     "execution_count": 102,
     "metadata": {},
     "output_type": "execute_result"
    }
   ],
   "source": [
    "equity = (fs_all['account_id'] == 'ifrs-full_Equity')\n",
    "retained_earning = fs_all['account_id'] == 'ifrs-full_RetainedEarnings'\n",
    "\n",
    "fs_all.loc[equity, ['corp_code']].drop_duplicates()"
   ]
  },
  {
   "cell_type": "code",
   "execution_count": 126,
   "metadata": {},
   "outputs": [],
   "source": [
    "fs_data = fs_all.copy()"
   ]
  },
  {
   "cell_type": "code",
   "execution_count": 134,
   "metadata": {},
   "outputs": [],
   "source": [
    "# 계정코드\n",
    "\n",
    "# 자산\n",
    "bs = fs_data['sj_div'] == 'BS'\n",
    "\n",
    "# 1. 자산 사이\n",
    "# 1) 자산 총계\n",
    "asset = bs & (\n",
    "    (fs_data['account_id'] == 'ifrs-full_Assets') |\n",
    "    fs_data['account_id'].str.contains('-표준계정코드 미사용-') & fs_data['account_nm'].str.contains('자산총계')\n",
    "    )\n",
    "if len(fs_data[asset]) > 1 :\n",
    "    asset = bs & fs_data['account_id'].str.contains('ifrs-full_Assets')\n",
    "\n",
    "# 2) 유동자산\n",
    "current_asset = bs & (fs_data['account_id'] == 'ifrs-full_CurrentAssets')\n",
    "\n",
    "# 3) 비유동자산\n",
    "non_current_asset = bs & (fs_data['account_id'] == 'ifrs-full_NoncurrentAssets')\n",
    "\n",
    "# 4) 현금 및 현금성자산\n",
    "cash = bs & (fs_data['account_id'] == 'ifrs-full_CashAndCashEquivalents')\n",
    "\n",
    "# 5) 매출채권\n",
    "rcvb_idx = bs & (\n",
    "    fs_data['account_id'].str.contains('ifrs-full_TradeAndOtherCurrentReceivables') |\n",
    "    fs_data['account_id'].str.contains('ifrs-full_TradeReceivables') |\n",
    "    fs_data['account_id'].str.contains('ifrs-full_CurrentTradeReceivables') |\n",
    "    fs_data['account_id'].str.contains('dart_ShortTermTradeReceivable') |\n",
    "    fs_data['account_id'].str.contains('-표준계정코드 미사용-') & fs_data['account_nm'].str.contains('매출채권')\n",
    ")\n",
    "\n",
    "# if len(fs_data[rcvb_idx]) > 1 :\n",
    "\n",
    "#     if 'dart_ShortTermTradeReceivable' in fs_data[rcvb_idx]['account_id'].tolist() :\n",
    "#         receivable = bs & (fs_data['account_id'] == 'dart_ShortTermTradeReceivable')\n",
    "#     elif 'ifrs-full_CurrentTradeReceivables' in fs_data[rcvb_idx]['account_id'].tolist() :\n",
    "#         receivable = bs & (fs_data['account_id'] == 'ifrs-full_CurrentTradeReceivables')\n",
    "#     elif 'ifrs-full_TradeReceivables' in fs_data[rcvb_idx]['account_id'].tolist() :\n",
    "#         receivable = bs & (fs_data['account_id'] == 'ifrs-full_TradeReceivables')\n",
    "#     elif 'ifrs-full_TradeAndOtherCurrentReceivables' in fs_data[rcvb_idx]['account_id'].tolist() :\n",
    "#         receivable = bs & (fs_data['account_id'] == 'ifrs-full_TradeAndOtherCurrentReceivables')\n",
    "#     else :\n",
    "#         idx = fs_data[rcvb_idx]['ord'].astype(int).idxmin()\n",
    "#         receivable = fs_data.index == idx\n",
    "\n",
    "# else :\n",
    "receivable = rcvb_idx\n",
    "\n",
    "# 6) 재고자산\n",
    "inventory = bs & (\n",
    "    fs_data['account_id'].str.contains('ifrs-full_Inventories') |\n",
    "    fs_data['account_id'].str.contains('-표준계정코드 미사용-') & (fs_data['account_nm'] == '재고자산')\n",
    ")\n",
    "\n",
    "if len(fs_data[inventory]) > 1 :\n",
    "    inventory = bs & fs_data['account_id'].str.contains('ifrs-full_Inventories')\n",
    "\n",
    "\n",
    "# 2. 자본\n",
    "# 1) 자기자본\n",
    "equity = bs & (fs_data['account_id'] == 'ifrs-full_Equity')\n",
    "# 2) 이익잉여금\n",
    "retained_earning = bs & (fs_data['account_id'] == 'ifrs-full_RetainedEarnings')\n",
    "\n",
    "# 3. 부채\n",
    "# 1) 부채총계\n",
    "liability = bs & (fs_data['account_id'] == 'ifrs-full_Liabilities')\n",
    "# 2) 유동부채\n",
    "current_liability = bs & (fs_data['account_id'] == 'ifrs-full_CurrentLiabilities')\n",
    "# 3) 비유동부채\n",
    "non_current_liability = bs & (fs_data['account_id'] == 'ifrs-full_NoncurrentLiabilities')"
   ]
  },
  {
   "cell_type": "code",
   "execution_count": null,
   "metadata": {},
   "outputs": [],
   "source": [
    "corp_asset = set(fs_data.loc[asset, 'corp_code'])\n",
    "corp_current_asset = set(fs_data.loc[current_asset, 'corp_code'])\n",
    "corp_non_current_asset = set(fs_data.loc[non_current_asset, 'corp_code'])\n",
    "corp_cash = set(fs_data.loc[cash, 'corp_code'])\n",
    "corp_receivable = set(fs_data.loc[receivable, 'corp_code'])\n",
    "corp_inventory = set(fs_data.loc[inventory, 'corp_code'])\n",
    "corp_equity = set(fs_data.loc[equity, 'corp_code'])\n",
    "corp_retained_earning = set(fs_data.loc[retained_earning, 'corp_code'])\n",
    "corp_liability = set(fs_data.loc[liability, 'corp_code'])\n",
    "corp_current_liability = set(fs_data.loc[current_liability, 'corp_code'])\n",
    "corp_non_current_liability = set(fs_data.loc[non_current_liability, 'corp_code'])"
   ]
  },
  {
   "cell_type": "code",
   "execution_count": null,
   "metadata": {},
   "outputs": [
    {
     "name": "stdout",
     "output_type": "stream",
     "text": [
      "corp_asset 2656\n",
      "corp_current_asset 2564\n",
      "corp_non_current_asset 2546\n",
      "corp_cash 2606\n",
      "corp_receivable 2506\n",
      "corp_inventory 2253\n",
      "corp_equity 2648\n",
      "corp_retained_earning 2613\n",
      "corp_liability 2656\n",
      "corp_current_liability 2560\n",
      "corp_non_current_liability 2563\n"
     ]
    }
   ],
   "source": [
    "print('corp_asset',  len(corp_asset))\n",
    "print('corp_current_asset', len(corp_current_asset))\n",
    "print('corp_non_current_asset', len(corp_non_current_asset))\n",
    "print('corp_cash', len(corp_cash))\n",
    "print('corp_receivable', len(corp_receivable))\n",
    "print('corp_inventory', len(corp_inventory))\n",
    "print('corp_equity', len(corp_equity))\n",
    "print('corp_retained_earning', len(corp_retained_earning))\n",
    "print('corp_liability', len(corp_liability))\n",
    "print('corp_current_liability', len(corp_current_liability))\n",
    "print('corp_non_current_liability', len(corp_non_current_liability))"
   ]
  },
  {
   "cell_type": "code",
   "execution_count": 161,
   "metadata": {},
   "outputs": [],
   "source": [
    "a = set(fs_data.loc[asset, 'corp_code'])\n",
    "b = set(fs_data.loc[current_asset, 'corp_code'])\n",
    "c = set(fs_data.loc[non_current_asset, 'corp_code'])\n",
    "d = set(fs_data.loc[cash, 'corp_code'])\n",
    "e = set(fs_data.loc[receivable, 'corp_code'])\n",
    "f = set(fs_data.loc[inventory, 'corp_code'])\n",
    "g = set(fs_data.loc[equity, 'corp_code'])\n",
    "h = set(fs_data.loc[retained_earning, 'corp_code'])\n",
    "i = set(fs_data.loc[liability, 'corp_code'])\n",
    "j = set(fs_data.loc[current_liability, 'corp_code'])\n",
    "k = set(fs_data.loc[non_current_liability, 'corp_code'])"
   ]
  },
  {
   "cell_type": "code",
   "execution_count": null,
   "metadata": {},
   "outputs": [],
   "source": [
    "final_result = list(set.intersection(a,b,c,d,e,f,g,h,i,j,k))"
   ]
  },
  {
   "cell_type": "code",
   "execution_count": 163,
   "metadata": {},
   "outputs": [],
   "source": [
    "dart_code_list = pd.read_json('data/dart_code_list.json', dtype = str)\n",
    "dart_code_list[dart_code_list['고유번호'].isin(final_result)].reset_index(drop=True).to_json('data/etf_fs_target_company.json')\n",
    "dart_code_list[dart_code_list['고유번호'].isin(final_result)].reset_index(drop=True).to_excel('data/etf_fs_target_company.xlsx')"
   ]
  },
  {
   "cell_type": "code",
   "execution_count": null,
   "metadata": {},
   "outputs": [
    {
     "data": {
      "text/plain": [
       "2207"
      ]
     },
     "execution_count": 166,
     "metadata": {},
     "output_type": "execute_result"
    }
   ],
   "source": []
  }
 ],
 "metadata": {
  "kernelspec": {
   "display_name": "ETF_DATA",
   "language": "python",
   "name": "python3"
  },
  "language_info": {
   "codemirror_mode": {
    "name": "ipython",
    "version": 3
   },
   "file_extension": ".py",
   "mimetype": "text/x-python",
   "name": "python",
   "nbconvert_exporter": "python",
   "pygments_lexer": "ipython3",
   "version": "3.9.20"
  }
 },
 "nbformat": 4,
 "nbformat_minor": 2
}
